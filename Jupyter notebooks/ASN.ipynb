{
 "cells": [
  {
   "cell_type": "code",
   "execution_count": 1,
   "id": "345b259d",
   "metadata": {},
   "outputs": [],
   "source": [
    "#Import Modules\n",
    "import requests\n",
    "import pandas as pd\n",
    "import numpy as np"
   ]
  },
  {
   "cell_type": "code",
   "execution_count": 2,
   "id": "7d2acf0f",
   "metadata": {},
   "outputs": [],
   "source": [
    "#Specify API end point URL\n",
    "url = 'https://www.peeringdb.com/api/net'\n",
    "#Use the requests package to make a GET request from the API endpoint:\n",
    "r = requests.get(url)"
   ]
  },
  {
   "cell_type": "code",
   "execution_count": 3,
   "id": "5ed894a6",
   "metadata": {},
   "outputs": [
    {
     "name": "stdout",
     "output_type": "stream",
     "text": [
      "200\n"
     ]
    }
   ],
   "source": [
    "#Print the status of our request\n",
    "print(r.status_code)"
   ]
  },
  {
   "cell_type": "code",
   "execution_count": 4,
   "id": "fd442368",
   "metadata": {},
   "outputs": [
    {
     "data": {
      "text/plain": [
       "dict_keys(['data', 'meta'])"
      ]
     },
     "execution_count": 4,
     "metadata": {},
     "output_type": "execute_result"
    }
   ],
   "source": [
    "json = r.json()\n",
    "#look at the json keys, and then we’ll create our dataframe(s)\n",
    "json.keys()"
   ]
  },
  {
   "cell_type": "code",
   "execution_count": 5,
   "id": "5cd33466",
   "metadata": {},
   "outputs": [],
   "source": [
    "json_data = json['data']"
   ]
  },
  {
   "cell_type": "code",
   "execution_count": 6,
   "id": "15a33c41",
   "metadata": {},
   "outputs": [],
   "source": [
    "#Create Dataframes from the data key we need\n",
    "data_df = pd.DataFrame(json_data)"
   ]
  },
  {
   "cell_type": "code",
   "execution_count": 7,
   "id": "13a4170f",
   "metadata": {},
   "outputs": [
    {
     "data": {
      "text/html": [
       "<div>\n",
       "<style scoped>\n",
       "    .dataframe tbody tr th:only-of-type {\n",
       "        vertical-align: middle;\n",
       "    }\n",
       "\n",
       "    .dataframe tbody tr th {\n",
       "        vertical-align: top;\n",
       "    }\n",
       "\n",
       "    .dataframe thead th {\n",
       "        text-align: right;\n",
       "    }\n",
       "</style>\n",
       "<table border=\"1\" class=\"dataframe\">\n",
       "  <thead>\n",
       "    <tr style=\"text-align: right;\">\n",
       "      <th></th>\n",
       "      <th>id</th>\n",
       "      <th>org_id</th>\n",
       "      <th>name</th>\n",
       "      <th>aka</th>\n",
       "      <th>name_long</th>\n",
       "      <th>website</th>\n",
       "      <th>asn</th>\n",
       "      <th>looking_glass</th>\n",
       "      <th>route_server</th>\n",
       "      <th>irr_as_set</th>\n",
       "      <th>...</th>\n",
       "      <th>poc_updated</th>\n",
       "      <th>policy_url</th>\n",
       "      <th>policy_general</th>\n",
       "      <th>policy_locations</th>\n",
       "      <th>policy_ratio</th>\n",
       "      <th>policy_contracts</th>\n",
       "      <th>allow_ixp_update</th>\n",
       "      <th>created</th>\n",
       "      <th>updated</th>\n",
       "      <th>status</th>\n",
       "    </tr>\n",
       "  </thead>\n",
       "  <tbody>\n",
       "    <tr>\n",
       "      <th>0</th>\n",
       "      <td>1</td>\n",
       "      <td>8897</td>\n",
       "      <td>GTT Communications (AS4436)</td>\n",
       "      <td>Formerly known as nLayer Communications</td>\n",
       "      <td></td>\n",
       "      <td>http://www.gtt.net</td>\n",
       "      <td>4436</td>\n",
       "      <td></td>\n",
       "      <td></td>\n",
       "      <td></td>\n",
       "      <td>...</td>\n",
       "      <td>2016-03-14T21:53:18Z</td>\n",
       "      <td>http://www.gtt.net/peering/</td>\n",
       "      <td>Restrictive</td>\n",
       "      <td>Required - International</td>\n",
       "      <td>True</td>\n",
       "      <td>Required</td>\n",
       "      <td>False</td>\n",
       "      <td>2004-07-28T00:00:00Z</td>\n",
       "      <td>2018-08-29T14:21:57Z</td>\n",
       "      <td>ok</td>\n",
       "    </tr>\n",
       "    <tr>\n",
       "      <th>1</th>\n",
       "      <td>2</td>\n",
       "      <td>14</td>\n",
       "      <td>Akamai Technologies</td>\n",
       "      <td></td>\n",
       "      <td></td>\n",
       "      <td>https://www.akamai.com/</td>\n",
       "      <td>20940</td>\n",
       "      <td></td>\n",
       "      <td></td>\n",
       "      <td>AS-AKAMAI</td>\n",
       "      <td>...</td>\n",
       "      <td>2021-05-11T21:26:32.758929Z</td>\n",
       "      <td></td>\n",
       "      <td>Open</td>\n",
       "      <td>Not Required</td>\n",
       "      <td>False</td>\n",
       "      <td>Not Required</td>\n",
       "      <td>False</td>\n",
       "      <td>2004-07-28T00:00:00Z</td>\n",
       "      <td>2021-08-18T12:21:55Z</td>\n",
       "      <td>ok</td>\n",
       "    </tr>\n",
       "    <tr>\n",
       "      <th>2</th>\n",
       "      <td>3</td>\n",
       "      <td>17</td>\n",
       "      <td>DALnet IRC Network</td>\n",
       "      <td></td>\n",
       "      <td></td>\n",
       "      <td>http://www.dal.net</td>\n",
       "      <td>31800</td>\n",
       "      <td></td>\n",
       "      <td></td>\n",
       "      <td>AS31800</td>\n",
       "      <td>...</td>\n",
       "      <td>2016-03-14T21:22:01Z</td>\n",
       "      <td>http://peering.dal.net</td>\n",
       "      <td>Open</td>\n",
       "      <td>Preferred</td>\n",
       "      <td>False</td>\n",
       "      <td>Not Required</td>\n",
       "      <td>False</td>\n",
       "      <td>2004-07-28T00:00:00Z</td>\n",
       "      <td>2016-03-14T21:33:04Z</td>\n",
       "      <td>ok</td>\n",
       "    </tr>\n",
       "    <tr>\n",
       "      <th>3</th>\n",
       "      <td>4</td>\n",
       "      <td>18</td>\n",
       "      <td>Limelight Networks Global</td>\n",
       "      <td>llnw.net</td>\n",
       "      <td></td>\n",
       "      <td>https://www.limelight.com</td>\n",
       "      <td>22822</td>\n",
       "      <td></td>\n",
       "      <td></td>\n",
       "      <td>AS-LLNW</td>\n",
       "      <td>...</td>\n",
       "      <td>2021-06-15T10:12:20.394183Z</td>\n",
       "      <td>https://www.limelight.com/peering/</td>\n",
       "      <td>Selective</td>\n",
       "      <td>Required - US</td>\n",
       "      <td>False</td>\n",
       "      <td>Not Required</td>\n",
       "      <td>True</td>\n",
       "      <td>2004-07-28T00:00:00Z</td>\n",
       "      <td>2020-07-01T14:21:57Z</td>\n",
       "      <td>ok</td>\n",
       "    </tr>\n",
       "    <tr>\n",
       "      <th>4</th>\n",
       "      <td>5</td>\n",
       "      <td>9350</td>\n",
       "      <td>Swisscom</td>\n",
       "      <td>IP-Plus</td>\n",
       "      <td></td>\n",
       "      <td>http://www.swisscom.com</td>\n",
       "      <td>3303</td>\n",
       "      <td></td>\n",
       "      <td>telnet://route-server.ip-plus.net</td>\n",
       "      <td>AS-SWCMGLOBAL</td>\n",
       "      <td>...</td>\n",
       "      <td>2020-01-22T04:24:08Z</td>\n",
       "      <td>https://extranet.swisscom.ch/ipplus/doc/Swissc...</td>\n",
       "      <td>Selective</td>\n",
       "      <td>Preferred</td>\n",
       "      <td>True</td>\n",
       "      <td>Required</td>\n",
       "      <td>False</td>\n",
       "      <td>2004-07-28T00:00:00Z</td>\n",
       "      <td>2021-10-07T08:37:54Z</td>\n",
       "      <td>ok</td>\n",
       "    </tr>\n",
       "  </tbody>\n",
       "</table>\n",
       "<p>5 rows × 35 columns</p>\n",
       "</div>"
      ],
      "text/plain": [
       "   id  org_id                         name  \\\n",
       "0   1    8897  GTT Communications (AS4436)   \n",
       "1   2      14          Akamai Technologies   \n",
       "2   3      17           DALnet IRC Network   \n",
       "3   4      18    Limelight Networks Global   \n",
       "4   5    9350                     Swisscom   \n",
       "\n",
       "                                       aka name_long  \\\n",
       "0  Formerly known as nLayer Communications             \n",
       "1                                                      \n",
       "2                                                      \n",
       "3                                 llnw.net             \n",
       "4                                  IP-Plus             \n",
       "\n",
       "                     website    asn looking_glass  \\\n",
       "0         http://www.gtt.net   4436                 \n",
       "1    https://www.akamai.com/  20940                 \n",
       "2         http://www.dal.net  31800                 \n",
       "3  https://www.limelight.com  22822                 \n",
       "4    http://www.swisscom.com   3303                 \n",
       "\n",
       "                        route_server     irr_as_set  ...  \\\n",
       "0                                                    ...   \n",
       "1                                         AS-AKAMAI  ...   \n",
       "2                                           AS31800  ...   \n",
       "3                                           AS-LLNW  ...   \n",
       "4  telnet://route-server.ip-plus.net  AS-SWCMGLOBAL  ...   \n",
       "\n",
       "                   poc_updated  \\\n",
       "0         2016-03-14T21:53:18Z   \n",
       "1  2021-05-11T21:26:32.758929Z   \n",
       "2         2016-03-14T21:22:01Z   \n",
       "3  2021-06-15T10:12:20.394183Z   \n",
       "4         2020-01-22T04:24:08Z   \n",
       "\n",
       "                                          policy_url  policy_general  \\\n",
       "0                        http://www.gtt.net/peering/     Restrictive   \n",
       "1                                                               Open   \n",
       "2                             http://peering.dal.net            Open   \n",
       "3                 https://www.limelight.com/peering/       Selective   \n",
       "4  https://extranet.swisscom.ch/ipplus/doc/Swissc...       Selective   \n",
       "\n",
       "           policy_locations policy_ratio policy_contracts  allow_ixp_update  \\\n",
       "0  Required - International         True         Required             False   \n",
       "1              Not Required        False     Not Required             False   \n",
       "2                 Preferred        False     Not Required             False   \n",
       "3             Required - US        False     Not Required              True   \n",
       "4                 Preferred         True         Required             False   \n",
       "\n",
       "                created               updated  status  \n",
       "0  2004-07-28T00:00:00Z  2018-08-29T14:21:57Z      ok  \n",
       "1  2004-07-28T00:00:00Z  2021-08-18T12:21:55Z      ok  \n",
       "2  2004-07-28T00:00:00Z  2016-03-14T21:33:04Z      ok  \n",
       "3  2004-07-28T00:00:00Z  2020-07-01T14:21:57Z      ok  \n",
       "4  2004-07-28T00:00:00Z  2021-10-07T08:37:54Z      ok  \n",
       "\n",
       "[5 rows x 35 columns]"
      ]
     },
     "execution_count": 7,
     "metadata": {},
     "output_type": "execute_result"
    }
   ],
   "source": [
    "data_df.head()"
   ]
  },
  {
   "cell_type": "code",
   "execution_count": 8,
   "id": "e81b399b",
   "metadata": {},
   "outputs": [
    {
     "data": {
      "text/plain": [
       "Index(['id', 'org_id', 'name', 'aka', 'name_long', 'website', 'asn',\n",
       "       'looking_glass', 'route_server', 'irr_as_set', 'info_type',\n",
       "       'info_prefixes4', 'info_prefixes6', 'info_traffic', 'info_ratio',\n",
       "       'info_scope', 'info_unicast', 'info_multicast', 'info_ipv6',\n",
       "       'info_never_via_route_servers', 'ix_count', 'fac_count', 'notes',\n",
       "       'netixlan_updated', 'netfac_updated', 'poc_updated', 'policy_url',\n",
       "       'policy_general', 'policy_locations', 'policy_ratio',\n",
       "       'policy_contracts', 'allow_ixp_update', 'created', 'updated', 'status'],\n",
       "      dtype='object')"
      ]
     },
     "execution_count": 8,
     "metadata": {},
     "output_type": "execute_result"
    }
   ],
   "source": [
    "#Print out column names\n",
    "data_df.columns"
   ]
  },
  {
   "cell_type": "code",
   "execution_count": 9,
   "id": "149f3237",
   "metadata": {},
   "outputs": [],
   "source": [
    "#Select the columns we need\n",
    "asn_df = data_df[['id', 'org_id', 'name','asn']]"
   ]
  },
  {
   "cell_type": "code",
   "execution_count": 10,
   "id": "9377e937",
   "metadata": {},
   "outputs": [
    {
     "data": {
      "text/html": [
       "<div>\n",
       "<style scoped>\n",
       "    .dataframe tbody tr th:only-of-type {\n",
       "        vertical-align: middle;\n",
       "    }\n",
       "\n",
       "    .dataframe tbody tr th {\n",
       "        vertical-align: top;\n",
       "    }\n",
       "\n",
       "    .dataframe thead th {\n",
       "        text-align: right;\n",
       "    }\n",
       "</style>\n",
       "<table border=\"1\" class=\"dataframe\">\n",
       "  <thead>\n",
       "    <tr style=\"text-align: right;\">\n",
       "      <th></th>\n",
       "      <th>id</th>\n",
       "      <th>org_id</th>\n",
       "      <th>name</th>\n",
       "      <th>asn</th>\n",
       "    </tr>\n",
       "  </thead>\n",
       "  <tbody>\n",
       "    <tr>\n",
       "      <th>0</th>\n",
       "      <td>1</td>\n",
       "      <td>8897</td>\n",
       "      <td>GTT Communications (AS4436)</td>\n",
       "      <td>4436</td>\n",
       "    </tr>\n",
       "    <tr>\n",
       "      <th>1</th>\n",
       "      <td>2</td>\n",
       "      <td>14</td>\n",
       "      <td>Akamai Technologies</td>\n",
       "      <td>20940</td>\n",
       "    </tr>\n",
       "    <tr>\n",
       "      <th>2</th>\n",
       "      <td>3</td>\n",
       "      <td>17</td>\n",
       "      <td>DALnet IRC Network</td>\n",
       "      <td>31800</td>\n",
       "    </tr>\n",
       "    <tr>\n",
       "      <th>3</th>\n",
       "      <td>4</td>\n",
       "      <td>18</td>\n",
       "      <td>Limelight Networks Global</td>\n",
       "      <td>22822</td>\n",
       "    </tr>\n",
       "    <tr>\n",
       "      <th>4</th>\n",
       "      <td>5</td>\n",
       "      <td>9350</td>\n",
       "      <td>Swisscom</td>\n",
       "      <td>3303</td>\n",
       "    </tr>\n",
       "  </tbody>\n",
       "</table>\n",
       "</div>"
      ],
      "text/plain": [
       "   id  org_id                         name    asn\n",
       "0   1    8897  GTT Communications (AS4436)   4436\n",
       "1   2      14          Akamai Technologies  20940\n",
       "2   3      17           DALnet IRC Network  31800\n",
       "3   4      18    Limelight Networks Global  22822\n",
       "4   5    9350                     Swisscom   3303"
      ]
     },
     "execution_count": 10,
     "metadata": {},
     "output_type": "execute_result"
    }
   ],
   "source": [
    "asn_df.head()"
   ]
  },
  {
   "cell_type": "code",
   "execution_count": 11,
   "id": "8e3bb59c",
   "metadata": {},
   "outputs": [
    {
     "data": {
      "text/plain": [
       "(23214, 4)"
      ]
     },
     "execution_count": 11,
     "metadata": {},
     "output_type": "execute_result"
    }
   ],
   "source": [
    "asn_df.shape"
   ]
  },
  {
   "cell_type": "code",
   "execution_count": 12,
   "id": "29f1566f",
   "metadata": {},
   "outputs": [
    {
     "data": {
      "text/plain": [
       "id        0.0\n",
       "org_id    0.0\n",
       "name      0.0\n",
       "asn       0.0\n",
       "dtype: float64"
      ]
     },
     "execution_count": 12,
     "metadata": {},
     "output_type": "execute_result"
    }
   ],
   "source": [
    "#Checking % of missing data per column\n",
    "asn_df.isnull().mean()*100"
   ]
  },
  {
   "cell_type": "code",
   "execution_count": 13,
   "id": "99a7eab6",
   "metadata": {},
   "outputs": [
    {
     "data": {
      "text/plain": [
       "(23214,)"
      ]
     },
     "execution_count": 13,
     "metadata": {},
     "output_type": "execute_result"
    }
   ],
   "source": [
    "#Confirming that all asn numbers are unique with no duplicates\n",
    "asn_df['asn'].unique().shape"
   ]
  },
  {
   "cell_type": "markdown",
   "id": "f0ebdb9b",
   "metadata": {},
   "source": [
    "We want to import all csv files in our import folder and compare the ASNs with the ASN from the endpoint\n",
    "and include the organization name for all files in the directory."
   ]
  },
  {
   "cell_type": "code",
   "execution_count": 16,
   "id": "606f03b9",
   "metadata": {},
   "outputs": [
    {
     "name": "stdout",
     "output_type": "stream",
     "text": [
      "20\n"
     ]
    }
   ],
   "source": [
    "import glob\n",
    "import os\n",
    "#Specifiy the directory with documents to be imported\n",
    "#All\n",
    "path = r\"/Users/seyi/MyDocuments/ASN_Import/*.csv\"\n",
    "#Specifiy the directory with documents to be imported\n",
    "directory = r\"/Users/seyi/MyDocuments/ASN_Import\"\n",
    "iter_count = 0\n",
    "#Empty list to store file names\n",
    "doc_names = []\n",
    "files = os.listdir(directory)\n",
    "#Iterate over the files in the import directory and store their names in the doc_names list\n",
    "for f in files:\n",
    "    if f != '.DS_Store':\n",
    "        doc_names.append(f)\n",
    "for fname in glob.glob(path):\n",
    "    # iterate over the files in the Import directory\n",
    "    nig_df = pd.read_csv(fname, sep=';')\n",
    "    #Corresponding organisation name for each ASN number is gotten using the map function and stored in a new column\n",
    "    nig_df['Organization 1'] = nig_df['AS Number 1'].map(asn_df.set_index('asn').name)\n",
    "    nig_df['Organization 2'] = nig_df['AS Number 2'].map(asn_df.set_index('asn').name)\n",
    "    nig_df = nig_df[['AS Number 1', 'Organization 1', 'AS Number 2', 'Organization 2', 'Avg Total Throughput (bits/s)','Avg 1 to 2 Throughput (bits/s)', 'Avg 2 to 1 Throughput (bits/s)','Max Total Throughput (bits/s)', 'Max 1 to 2 Throughput (bits/s)','Max 2 to 1 Throughput (bits/s)', 'Connected Time (seconds)']]\n",
    "    #this will replace \"0\" with \"Organization Name\"\n",
    "    nig_df['Organization 1'] = np.where(nig_df['AS Number 1'] == 0, 'Main Telecoms Coy', nig_df['Organization 1'])\n",
    "    nig_df['Organization 2'] = np.where(nig_df['AS Number 2'] == 0, 'Main Telecoms Coy', nig_df['Organization 2'])\n",
    "    #Export Directory\n",
    "    exp_dir ='/Users/seyi/MyDocuments/ASN_Export/Export_'\n",
    "    file_name = exp_dir+str(doc_names[iter_count])+'.xlsx'\n",
    "    #Export files to excel\n",
    "    nig_df.to_excel(file_name, index=False)\n",
    "    iter_count +=1\n",
    "print(iter_count)"
   ]
  },
  {
   "cell_type": "code",
   "execution_count": null,
   "id": "a081e8d5",
   "metadata": {},
   "outputs": [],
   "source": []
  },
  {
   "cell_type": "code",
   "execution_count": null,
   "id": "bd4cabd6",
   "metadata": {},
   "outputs": [],
   "source": []
  },
  {
   "cell_type": "code",
   "execution_count": null,
   "id": "079ba01e",
   "metadata": {},
   "outputs": [],
   "source": []
  }
 ],
 "metadata": {
  "interpreter": {
   "hash": "dca0ade3e726a953b501b15e8e990130d2b7799f14cfd9f4271676035ebe5511"
  },
  "kernelspec": {
   "display_name": "Python 3",
   "language": "python",
   "name": "python3"
  },
  "language_info": {
   "codemirror_mode": {
    "name": "ipython",
    "version": 3
   },
   "file_extension": ".py",
   "mimetype": "text/x-python",
   "name": "python",
   "nbconvert_exporter": "python",
   "pygments_lexer": "ipython3",
   "version": "3.8.8"
  }
 },
 "nbformat": 4,
 "nbformat_minor": 5
}
